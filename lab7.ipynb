{
  "nbformat": 4,
  "nbformat_minor": 0,
  "metadata": {
    "colab": {
      "name": "lab7.ipynb",
      "provenance": [],
      "include_colab_link": true
    },
    "kernelspec": {
      "name": "python3",
      "display_name": "Python 3"
    }
  },
  "cells": [
    {
      "cell_type": "markdown",
      "metadata": {
        "id": "view-in-github",
        "colab_type": "text"
      },
      "source": [
        "<a href=\"https://colab.research.google.com/github/Shreyans06/ML-/blob/master/lab7.ipynb\" target=\"_parent\"><img src=\"https://colab.research.google.com/assets/colab-badge.svg\" alt=\"Open In Colab\"/></a>"
      ]
    },
    {
      "cell_type": "code",
      "metadata": {
        "id": "ekwkGH3gLP8k",
        "colab_type": "code",
        "colab": {}
      },
      "source": [
        "import bayespy as bp\n",
        "import numpy as np\n",
        "import csv\n",
        "import warnings\n",
        "warnings.filterwarnings(\"ignore\")\n",
        "\n",
        "ageEnum={'SuperSeniorCitizen':0,'SeniorCitizen':1,'MiddleAged':2,'Youth':3,'Teen':4}\n",
        "genderEnum={'Male':0,'Female':1}\n",
        "familyHistoryEnum={'Yes':0,'No':1}\n",
        "dietEnum={'High':0,'Medium':1,'Low':2}\n",
        "lifestyleEnum={'Athlete':0,'Active':1,'Moderate':2,'Sedetary':3}\n",
        "cholestrolEnum={'High':0,'Border-line':1,'Normal':2}\n",
        "heartDiseaseEnum={'Yes':0,'No':1}\n",
        "\n",
        "with open('lab7.csv') as f:\n",
        "  line=csv.reader(f)\n",
        "  dataset=list(line)\n",
        "  data=[]\n",
        "  #for x in dataset:\n",
        "    #data.append([ageEnum[x[0]],genderEnum[x[1]],familyHistoryEnum[x[2]],dietEnum[x[3]],lifestyleEnum[x[4]],cholestrolEnum[x[5]],heartDiseaseEnum[x[6]]])\n",
        "  data=np.array(dataset[1:],dtype='int32')\n",
        "  N=len(data)"
      ],
      "execution_count": 0,
      "outputs": []
    },
    {
      "cell_type": "code",
      "metadata": {
        "id": "s9W5IrGXSjC5",
        "colab_type": "code",
        "colab": {
          "base_uri": "https://localhost:8080/",
          "height": 162
        },
        "outputId": "bff380c5-172f-4ff8-e8c8-0a38c267ca8c"
      },
      "source": [
        "p_age=bp.nodes.Dirichlet(1.0*np.ones(5))\n",
        "age=bp.nodes.Categorical(p_age,plates=(N,))\n",
        "age.observe(data[:,0])\n",
        "\n",
        "p_gender=bp.nodes.Dirichlet(1.0*np.ones(2))\n",
        "gender=bp.nodes.Categorical(p_gender,plates=(N,))\n",
        "gender.observe(data[:,1])\n",
        "\n",
        "p_familyHistory=bp.nodes.Dirichlet(1.0*np.ones(2))\n",
        "familyHistory=bp.nodes.Categorical(p_familyHistory,plates=(N,))\n",
        "familyHistory.observe(data[:,2])\n",
        "\n",
        "p_diet=bp.nodes.Dirichlet(1.0*np.ones(3))\n",
        "diet=bp.nodes.Categorical(p_diet,plates=(N,))\n",
        "diet.observe(data[:,3])\n",
        "\n",
        "p_lifestyle=bp.nodes.Dirichlet(1.0*np.ones(4))\n",
        "lifestyle=bp.nodes.Categorical(p_lifestyle,plates=(N,))\n",
        "lifestyle.observe(data[:,4])\n",
        "\n",
        "p_cholestrol=bp.nodes.Dirichlet(1.0*np.ones(3))\n",
        "cholestrol=bp.nodes.Categorical(p_cholestrol,plates=(N,))\n",
        "cholestrol.observe(data[:,5])\n",
        "\n",
        "p_heartDisease=bp.nodes.Dirichlet(np.ones(2),plates=(5,2,2,3,4,3))\n",
        "heartDisease=bp.nodes.MultiMixture([age,gender,familyHistory,diet,lifestyle,cholestrol],bp.nodes.Categorical,p_heartDisease)\n",
        "heartDisease.observe(data[:,6])\n",
        "\n",
        "p_heartDisease.update()\n",
        "\n",
        "n=0\n",
        "while n==0:\n",
        "  res=bp.nodes.MultiMixture([int(input('Enter Age:'+str(ageEnum))),int(input('Enter gender: '+str(genderEnum))),int(input('Enter family history: '+str(familyHistoryEnum))),int(input('Enter Diet:'+str(dietEnum))),int(input('Enter lifestyle:'+str(lifestyleEnum))),int(input('Enter cholestrol:'+str(cholestrolEnum)))],bp.nodes.Categorical,p_heartDisease).get_moments()[0][1]\n",
        "  print('Probability(HeartDisease) = '+str(res))\n",
        "  n=int(input('{Enter for continue:0,exit:1} '))"
      ],
      "execution_count": 26,
      "outputs": [
        {
          "output_type": "stream",
          "text": [
            "Enter Age:{'SuperSeniorCitizen': 0, 'SeniorCitizen': 1, 'MiddleAged': 2, 'Youth': 3, 'Teen': 4}0\n",
            "Enter gender: {'Male': 0, 'Female': 1}0\n",
            "Enter family history: {'Yes': 0, 'No': 1}1\n",
            "Enter Diet:{'High': 0, 'Medium': 1, 'Low': 2}0\n",
            "Enter lifestyle:{'Athlete': 0, 'Active': 1, 'Moderate': 2, 'Sedetary': 3}0\n",
            "Enter cholestrol:{'High': 0, 'Border-line': 1, 'Normal': 2}2\n",
            "Probability(HeartDisease) = 0.7310585786300049\n",
            "{Enter for continue:0,exit:1} 1\n"
          ],
          "name": "stdout"
        }
      ]
    }
  ]
}