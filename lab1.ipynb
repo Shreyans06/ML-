{
  "nbformat": 4,
  "nbformat_minor": 0,
  "metadata": {
    "colab": {
      "name": "lab1.ipynb",
      "provenance": [],
      "include_colab_link": true
    },
    "kernelspec": {
      "name": "python3",
      "display_name": "Python 3"
    }
  },
  "cells": [
    {
      "cell_type": "markdown",
      "metadata": {
        "id": "view-in-github",
        "colab_type": "text"
      },
      "source": [
        "<a href=\"https://colab.research.google.com/github/Shreyans06/ML-/blob/master/lab1.ipynb\" target=\"_parent\"><img src=\"https://colab.research.google.com/assets/colab-badge.svg\" alt=\"Open In Colab\"/></a>"
      ]
    },
    {
      "cell_type": "code",
      "metadata": {
        "id": "eNV6o5DVvGGU",
        "colab_type": "code",
        "colab": {
          "base_uri": "https://localhost:8080/",
          "height": 35
        },
        "outputId": "f5be6e35-4d89-4798-c81a-43995a0897f0"
      },
      "source": [
        "import csv\n",
        "with open('lab1.csv','r') as f:\n",
        "  reader=csv.reader(f)\n",
        "  row=list(reader)\n",
        "h=[0]*(len(row[0])-1)\n",
        "for each_row in row:\n",
        "    if('yes' in each_row):\n",
        "        for i in range(len(each_row)-1):\n",
        "            if(each_row[i]!=h[i] and h[i]==0):\n",
        "                h[i]=each_row[i]\n",
        "            elif(each_row[i]!=h[i] and h[i]!=0):\n",
        "                h[i]='?'\n",
        "print(h)"
      ],
      "execution_count": 10,
      "outputs": [
        {
          "output_type": "stream",
          "text": [
            "['sunny', 'warm', '?', '?', '?']\n"
          ],
          "name": "stdout"
        }
      ]
    }
  ]
}