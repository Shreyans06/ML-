{
  "nbformat": 4,
  "nbformat_minor": 0,
  "metadata": {
    "colab": {
      "name": "lab2.ipynb",
      "provenance": [],
      "include_colab_link": true
    },
    "kernelspec": {
      "name": "python3",
      "display_name": "Python 3"
    }
  },
  "cells": [
    {
      "cell_type": "markdown",
      "metadata": {
        "id": "view-in-github",
        "colab_type": "text"
      },
      "source": [
        "<a href=\"https://colab.research.google.com/github/Shreyans06/ML-/blob/master/lab2.ipynb\" target=\"_parent\"><img src=\"https://colab.research.google.com/assets/colab-badge.svg\" alt=\"Open In Colab\"/></a>"
      ]
    },
    {
      "cell_type": "code",
      "metadata": {
        "id": "mOaicmwPL4Rw",
        "colab_type": "code",
        "colab": {
          "base_uri": "https://localhost:8080/",
          "height": 417
        },
        "outputId": "7b625f0e-e349-4ec5-987f-185c9befa0a6"
      },
      "source": [
        "import csv\n",
        "with open('lab2.csv','r') as f:\n",
        "  reader=csv.reader(f)\n",
        "  row=list(reader)\n",
        "row=row[1:]\n",
        "sp_h=['0']*(len(row[0])-1)\n",
        "gen_h=[\"?\" for i in range(len(sp_h))]\n",
        "print(\"Initial specific hypothesis\",sp_h)\n",
        "print(\"Initial general hypothesis\",gen_h)\n",
        "print()\n",
        "gen_h=[[\"?\" for i in range(len(sp_h))] for i in range(len(sp_h)) ]\n",
        "for j,each_row in enumerate(row):\n",
        "    if('yes' in each_row):\n",
        "        for i in range(len(each_row)-1):\n",
        "            if(sp_h[i]=='0'):\n",
        "                sp_h[i]=each_row[i]\n",
        "            elif(each_row[i]!=sp_h[i] and sp_h[i]!='0'):\n",
        "                sp_h[i]='?'\n",
        "                gen_h[i][i]='?'\n",
        "    elif('no' in each_row):\n",
        "      for x in range(len(each_row)-1):\n",
        "        if(each_row[x]!=sp_h[x]):\n",
        "          gen_h[x][x]=sp_h[x]\n",
        "    indices=[i for i,val in enumerate(gen_h) if val==[\"?\" for i in range(len(sp_h))]]\n",
        "    print(\"S[{0}]:\".format(j),sp_h)\n",
        "    print(\"G[{0}]:\".format(j),gen_h)\n",
        "    print()\n",
        "print()\n",
        "for k in indices:\n",
        "      gen_h.remove([\"?\" for i in range(len(sp_h))])\n",
        "print(\"Final specific hypothesis\",sp_h)\n",
        "print(\"Final general hypothesis\",gen_h)"
      ],
      "execution_count": 34,
      "outputs": [
        {
          "output_type": "stream",
          "text": [
            "Initial specific hypothesis ['0', '0', '0', '0', '0']\n",
            "Initial general hypothesis ['?', '?', '?', '?', '?']\n",
            "\n",
            "S[0]: ['japan', 'honda', 'blue', '1980', 'economy']\n",
            "G[0]: [['?', '?', '?', '?', '?'], ['?', '?', '?', '?', '?'], ['?', '?', '?', '?', '?'], ['?', '?', '?', '?', '?'], ['?', '?', '?', '?', '?']]\n",
            "\n",
            "S[1]: ['japan', 'honda', 'blue', '1980', 'economy']\n",
            "G[1]: [['?', '?', '?', '?', '?'], ['?', 'honda', '?', '?', '?'], ['?', '?', 'blue', '?', '?'], ['?', '?', '?', '1980', '?'], ['?', '?', '?', '?', 'economy']]\n",
            "\n",
            "S[2]: ['japan', '?', 'blue', '?', 'economy']\n",
            "G[2]: [['?', '?', '?', '?', '?'], ['?', '?', '?', '?', '?'], ['?', '?', 'blue', '?', '?'], ['?', '?', '?', '?', '?'], ['?', '?', '?', '?', 'economy']]\n",
            "\n",
            "S[3]: ['japan', '?', 'blue', '?', 'economy']\n",
            "G[3]: [['japan', '?', '?', '?', '?'], ['?', '?', '?', '?', '?'], ['?', '?', 'blue', '?', '?'], ['?', '?', '?', '?', '?'], ['?', '?', '?', '?', 'economy']]\n",
            "\n",
            "S[4]: ['japan', '?', '?', '?', 'economy']\n",
            "G[4]: [['japan', '?', '?', '?', '?'], ['?', '?', '?', '?', '?'], ['?', '?', '?', '?', '?'], ['?', '?', '?', '?', '?'], ['?', '?', '?', '?', 'economy']]\n",
            "\n",
            "\n",
            "Final specific hypothesis ['japan', '?', '?', '?', 'economy']\n",
            "Final general hypothesis [['japan', '?', '?', '?', '?'], ['?', '?', '?', '?', 'economy']]\n"
          ],
          "name": "stdout"
        }
      ]
    }
  ]
}