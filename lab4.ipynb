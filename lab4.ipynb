{
  "nbformat": 4,
  "nbformat_minor": 0,
  "metadata": {
    "colab": {
      "name": "lab4.ipynb",
      "provenance": [],
      "include_colab_link": true
    },
    "kernelspec": {
      "name": "python3",
      "display_name": "Python 3"
    }
  },
  "cells": [
    {
      "cell_type": "markdown",
      "metadata": {
        "id": "view-in-github",
        "colab_type": "text"
      },
      "source": [
        "<a href=\"https://colab.research.google.com/github/Shreyans06/ML-/blob/master/lab4.ipynb\" target=\"_parent\"><img src=\"https://colab.research.google.com/assets/colab-badge.svg\" alt=\"Open In Colab\"/></a>"
      ]
    },
    {
      "cell_type": "code",
      "metadata": {
        "id": "TwpDX0pXDmYz",
        "colab_type": "code",
        "colab": {}
      },
      "source": [
        "import numpy as np\n",
        "x=np.array(([2,9],[1,5],[3,6]),dtype=float)\n",
        "y=np.array(([92],[86],[89]),dtype=float)\n",
        "x=x/(np.amax(x,axis=0))\n",
        "y=y/100"
      ],
      "execution_count": 0,
      "outputs": []
    },
    {
      "cell_type": "code",
      "metadata": {
        "id": "BbXYCyTDFSmM",
        "colab_type": "code",
        "colab": {}
      },
      "source": [
        "def sigmoid(x):\n",
        "  return 1/(1+np.exp(-x))\n",
        "def derivative_sigmoid(x):\n",
        "  return x*(1-x)"
      ],
      "execution_count": 0,
      "outputs": []
    },
    {
      "cell_type": "code",
      "metadata": {
        "id": "_QfJjoK9GoJL",
        "colab_type": "code",
        "outputId": "09483ba0-3813-43be-87f7-5c5fb140e2a3",
        "colab": {
          "base_uri": "https://localhost:8080/",
          "height": 234
        }
      },
      "source": [
        "epoch=7000\n",
        "lr=0.05\n",
        "inp_layer=2\n",
        "hid_layer=3\n",
        "output_layer=1\n",
        "wh=np.random.uniform(size=(inp_layer,hid_layer))\n",
        "bh=np.random.uniform(size=(1,hid_layer))\n",
        "wout=np.random.uniform(size=(hid_layer,output_layer))\n",
        "bout=np.random.uniform(size=(1,output_layer))\n",
        "for i in range(epoch):\n",
        "\n",
        "  hinp1=np.dot(x,wh)\n",
        "  hinp=hinp1+bh\n",
        "  hlayer=sigmoid(hinp)\n",
        "\n",
        "  out1=np.dot(hlayer,wout)\n",
        "  outinp=out1+bout\n",
        "  output=sigmoid(outinp)\n",
        "\n",
        "  e0=y-output\n",
        "  outgrad=derivative_sigmoid(output)\n",
        "  d_output=e0*outgrad\n",
        "  \n",
        "  eh=d_output.dot(wout.T)\n",
        "  hidden_grad=derivative_sigmoid(hlayer)\n",
        "  d_hidden=eh*hidden_grad\n",
        "\n",
        "  wout+=hlayer.T.dot(d_output)*lr\n",
        "  wh+=x.T.dot(d_hidden)*lr\n",
        "\n",
        "print(\"Input\\n\",x)\n",
        "print(\"Actual output\\n\",y)\n",
        "print(\"Predicted output\\n\",output)\n"
      ],
      "execution_count": 25,
      "outputs": [
        {
          "output_type": "stream",
          "text": [
            "Input\n",
            " [[0.66666667 1.        ]\n",
            " [0.33333333 0.55555556]\n",
            " [1.         0.66666667]]\n",
            "Actual output\n",
            " [[0.92]\n",
            " [0.86]\n",
            " [0.89]]\n",
            "Predicted output\n",
            " [[0.89496272]\n",
            " [0.88342619]\n",
            " [0.8921331 ]]\n"
          ],
          "name": "stdout"
        }
      ]
    }
  ]
}