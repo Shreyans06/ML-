{
  "nbformat": 4,
  "nbformat_minor": 0,
  "metadata": {
    "colab": {
      "name": "lab6.ipynb",
      "provenance": [],
      "collapsed_sections": [],
      "include_colab_link": true
    },
    "kernelspec": {
      "name": "python3",
      "display_name": "Python 3"
    }
  },
  "cells": [
    {
      "cell_type": "markdown",
      "metadata": {
        "id": "view-in-github",
        "colab_type": "text"
      },
      "source": [
        "<a href=\"https://colab.research.google.com/github/Shreyans06/ML-/blob/master/lab6.ipynb\" target=\"_parent\"><img src=\"https://colab.research.google.com/assets/colab-badge.svg\" alt=\"Open In Colab\"/></a>"
      ]
    },
    {
      "cell_type": "code",
      "metadata": {
        "id": "9iwAOTW7qKh5",
        "colab_type": "code",
        "colab": {}
      },
      "source": [
        "from sklearn.datasets import fetch_20newsgroups\n",
        "train=fetch_20newsgroups(subset='train',shuffle=True)\n",
        "test=fetch_20newsgroups(subset='test',shuffle=True)"
      ],
      "execution_count": 0,
      "outputs": []
    },
    {
      "cell_type": "code",
      "metadata": {
        "id": "h36oiM50uGmL",
        "colab_type": "code",
        "colab": {
          "base_uri": "https://localhost:8080/",
          "height": 507
        },
        "outputId": "178e471a-ca0f-4a76-b87e-9af1374fd1e0"
      },
      "source": [
        "print(len(train.data))\n",
        "print(len(test.data))\n",
        "print(train.target_names)\n",
        "print(\"\\n\".join(train.data[0].split(\"\\n\")))\n",
        "print(\"Target\",train.target)"
      ],
      "execution_count": 7,
      "outputs": [
        {
          "output_type": "stream",
          "text": [
            "11314\n",
            "7532\n",
            "['alt.atheism', 'comp.graphics', 'comp.os.ms-windows.misc', 'comp.sys.ibm.pc.hardware', 'comp.sys.mac.hardware', 'comp.windows.x', 'misc.forsale', 'rec.autos', 'rec.motorcycles', 'rec.sport.baseball', 'rec.sport.hockey', 'sci.crypt', 'sci.electronics', 'sci.med', 'sci.space', 'soc.religion.christian', 'talk.politics.guns', 'talk.politics.mideast', 'talk.politics.misc', 'talk.religion.misc']\n",
            "From: lerxst@wam.umd.edu (where's my thing)\n",
            "Subject: WHAT car is this!?\n",
            "Nntp-Posting-Host: rac3.wam.umd.edu\n",
            "Organization: University of Maryland, College Park\n",
            "Lines: 15\n",
            "\n",
            " I was wondering if anyone out there could enlighten me on this car I saw\n",
            "the other day. It was a 2-door sports car, looked to be from the late 60s/\n",
            "early 70s. It was called a Bricklin. The doors were really small. In addition,\n",
            "the front bumper was separate from the rest of the body. This is \n",
            "all I know. If anyone can tellme a model name, engine specs, years\n",
            "of production, where this car is made, history, or whatever info you\n",
            "have on this funky looking car, please e-mail.\n",
            "\n",
            "Thanks,\n",
            "- IL\n",
            "   ---- brought to you by your neighborhood Lerxst ----\n",
            "\n",
            "\n",
            "\n",
            "\n",
            "\n",
            "Target [7 4 4 ... 3 1 8]\n"
          ],
          "name": "stdout"
        }
      ]
    },
    {
      "cell_type": "code",
      "metadata": {
        "id": "qi3Y55nZtbWh",
        "colab_type": "code",
        "colab": {}
      },
      "source": [
        "from sklearn.feature_extraction.text import CountVectorizer,TfidfTransformer\n",
        "count_vect=CountVectorizer()\n",
        "tfid_transform=TfidfTransformer()\n",
        "\n",
        "x_train=count_vect.fit_transform(train.data)\n",
        "\n",
        "x_train_tfid=tfid_transform.fit_transform(x_train)"
      ],
      "execution_count": 0,
      "outputs": []
    },
    {
      "cell_type": "code",
      "metadata": {
        "id": "9Pi6F_sr61DA",
        "colab_type": "code",
        "colab": {
          "base_uri": "https://localhost:8080/",
          "height": 1000
        },
        "outputId": "2ec9ae87-f6b3-4f84-fba6-187656e14ed4"
      },
      "source": [
        "from sklearn.naive_bayes import MultinomialNB\n",
        "from sklearn.metrics import accuracy_score,confusion_matrix,classification_report\n",
        "mod=MultinomialNB()\n",
        "mod.fit(x_train_tfid,train.target)\n",
        "\n",
        "x_test=count_vect.transform(test.data)\n",
        "x_test_tfid=tfid_transform.transform(x_test)\n",
        "\n",
        "predict=mod.predict(x_test_tfid)\n",
        "\n",
        "print(predict)\n",
        "print(\"Accuracy :\",accuracy_score(test.target,predict))\n",
        "print(classification_report(test.target,predict,target_names=test.target_names))\n",
        "print(confusion_matrix(test.target,predict))"
      ],
      "execution_count": 6,
      "outputs": [
        {
          "output_type": "stream",
          "text": [
            "[ 7 11  0 ...  9  3 15]\n",
            "Accuracy : 0.7738980350504514\n",
            "                          precision    recall  f1-score   support\n",
            "\n",
            "             alt.atheism       0.80      0.52      0.63       319\n",
            "           comp.graphics       0.81      0.65      0.72       389\n",
            " comp.os.ms-windows.misc       0.82      0.65      0.73       394\n",
            "comp.sys.ibm.pc.hardware       0.67      0.78      0.72       392\n",
            "   comp.sys.mac.hardware       0.86      0.77      0.81       385\n",
            "          comp.windows.x       0.89      0.75      0.82       395\n",
            "            misc.forsale       0.93      0.69      0.80       390\n",
            "               rec.autos       0.85      0.92      0.88       396\n",
            "         rec.motorcycles       0.94      0.93      0.93       398\n",
            "      rec.sport.baseball       0.92      0.90      0.91       397\n",
            "        rec.sport.hockey       0.89      0.97      0.93       399\n",
            "               sci.crypt       0.59      0.97      0.74       396\n",
            "         sci.electronics       0.84      0.60      0.70       393\n",
            "                 sci.med       0.92      0.74      0.82       396\n",
            "               sci.space       0.84      0.89      0.87       394\n",
            "  soc.religion.christian       0.44      0.98      0.61       398\n",
            "      talk.politics.guns       0.64      0.94      0.76       364\n",
            "   talk.politics.mideast       0.93      0.91      0.92       376\n",
            "      talk.politics.misc       0.96      0.42      0.58       310\n",
            "      talk.religion.misc       0.97      0.14      0.24       251\n",
            "\n",
            "                accuracy                           0.77      7532\n",
            "               macro avg       0.83      0.76      0.76      7532\n",
            "            weighted avg       0.82      0.77      0.77      7532\n",
            "\n",
            "[[166   0   0   1   0   1   0   0   1   1   1   3   0   6   3 123   4   8\n",
            "    0   1]\n",
            " [  1 252  15  12   9  18   1   2   1   5   2  41   4   0   6  15   4   1\n",
            "    0   0]\n",
            " [  0  14 258  45   3   9   0   2   1   3   2  25   1   0   6  23   2   0\n",
            "    0   0]\n",
            " [  0   5  11 305  17   1   3   6   1   0   2  19  13   0   5   3   1   0\n",
            "    0   0]\n",
            " [  0   3   8  23 298   0   3   8   1   3   1  16   8   0   2   8   3   0\n",
            "    0   0]\n",
            " [  1  21  17  13   2 298   1   0   1   1   0  23   0   1   4  10   2   0\n",
            "    0   0]\n",
            " [  0   1   3  31  12   1 271  19   4   4   6   5  12   6   3   9   3   0\n",
            "    0   0]\n",
            " [  0   1   0   3   0   0   4 364   3   2   2   4   1   1   3   3   4   0\n",
            "    1   0]\n",
            " [  0   0   0   1   0   0   2  10 371   0   0   4   0   0   0   8   2   0\n",
            "    0   0]\n",
            " [  0   0   0   0   1   0   0   4   0 357  22   0   0   0   2   9   1   1\n",
            "    0   0]\n",
            " [  0   0   0   0   0   0   0   1   0   4 387   1   0   0   1   5   0   0\n",
            "    0   0]\n",
            " [  0   2   1   0   0   1   1   3   0   0   0 383   1   0   0   3   1   0\n",
            "    0   0]\n",
            " [  0   4   2  17   5   0   2   8   7   1   2  78 235   3  11  15   2   1\n",
            "    0   0]\n",
            " [  2   3   0   1   1   3   1   0   2   3   4  11   5 292   6  52   6   4\n",
            "    0   0]\n",
            " [  0   2   0   1   0   3   0   2   1   0   1   6   1   2 351  19   4   0\n",
            "    1   0]\n",
            " [  2   0   0   0   0   0   0   0   1   0   0   0   0   1   2 392   0   0\n",
            "    0   0]\n",
            " [  0   0   0   1   0   0   2   0   1   1   0  10   0   0   1   6 341   1\n",
            "    0   0]\n",
            " [  0   1   0   0   0   0   0   0   0   1   0   2   0   0   0  24   3 344\n",
            "    1   0]\n",
            " [  2   0   0   0   0   0   0   1   0   0   1  11   0   1   7  35 118   5\n",
            "  129   0]\n",
            " [ 33   2   0   0   0   0   0   0   0   1   1   3   0   4   4 131  29   5\n",
            "    3  35]]\n"
          ],
          "name": "stdout"
        }
      ]
    }
  ]
}