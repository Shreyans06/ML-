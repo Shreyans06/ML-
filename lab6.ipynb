{
  "nbformat": 4,
  "nbformat_minor": 0,
  "metadata": {
    "colab": {
      "name": "lab6.ipynb",
      "provenance": [],
      "collapsed_sections": [],
      "include_colab_link": true
    },
    "kernelspec": {
      "name": "python3",
      "display_name": "Python 3"
    }
  },
  "cells": [
    {
      "cell_type": "markdown",
      "metadata": {
        "id": "view-in-github",
        "colab_type": "text"
      },
      "source": [
        "<a href=\"https://colab.research.google.com/github/Shreyans06/ML-/blob/master/lab6.ipynb\" target=\"_parent\"><img src=\"https://colab.research.google.com/assets/colab-badge.svg\" alt=\"Open In Colab\"/></a>"
      ]
    },
    {
      "cell_type": "code",
      "metadata": {
        "id": "9iwAOTW7qKh5",
        "colab_type": "code",
        "colab": {}
      },
      "source": [
        "from sklearn.datasets import fetch_20newsgroups\n",
        "categories=['alt.atheism','comp.graphics','sci.med','soc.religion.christian']\n",
        "train=fetch_20newsgroups(subset='train',categories=categories,shuffle=True)\n",
        "test=fetch_20newsgroups(subset='test',categories=categories,shuffle=True)"
      ],
      "execution_count": 0,
      "outputs": []
    },
    {
      "cell_type": "code",
      "metadata": {
        "id": "h36oiM50uGmL",
        "colab_type": "code",
        "outputId": "daad68cb-a758-49e1-9cd5-d0a6658b3112",
        "colab": {
          "base_uri": "https://localhost:8080/",
          "height": 469
        }
      },
      "source": [
        "print(len(train.data))\n",
        "print(len(test.data))\n",
        "print(train.target_names)\n",
        "print(\"\\n\".join(train.data[0].split(\"\\n\")))\n",
        "print(\"Target\",train.target)"
      ],
      "execution_count": 4,
      "outputs": [
        {
          "output_type": "stream",
          "text": [
            "2257\n",
            "1502\n",
            "['alt.atheism', 'comp.graphics', 'sci.med', 'soc.religion.christian']\n",
            "From: sd345@city.ac.uk (Michael Collier)\n",
            "Subject: Converting images to HP LaserJet III?\n",
            "Nntp-Posting-Host: hampton\n",
            "Organization: The City University\n",
            "Lines: 14\n",
            "\n",
            "Does anyone know of a good way (standard PC application/PD utility) to\n",
            "convert tif/img/tga files into LaserJet III format.  We would also like to\n",
            "do the same, converting to HPGL (HP plotter) files.\n",
            "\n",
            "Please email any response.\n",
            "\n",
            "Is this the correct group?\n",
            "\n",
            "Thanks in advance.  Michael.\n",
            "-- \n",
            "Michael Collier (Programmer)                 The Computer Unit,\n",
            "Email: M.P.Collier@uk.ac.city                The City University,\n",
            "Tel: 071 477-8000 x3769                      London,\n",
            "Fax: 071 477-8565                            EC1V 0HB.\n",
            "\n",
            "Target [1 1 3 ... 2 2 2]\n"
          ],
          "name": "stdout"
        }
      ]
    },
    {
      "cell_type": "code",
      "metadata": {
        "id": "qi3Y55nZtbWh",
        "colab_type": "code",
        "colab": {}
      },
      "source": [
        "from sklearn.feature_extraction.text import CountVectorizer,TfidfTransformer\n",
        "count_vect=CountVectorizer()\n",
        "tfid_transform=TfidfTransformer()\n",
        "\n",
        "x_train=count_vect.fit_transform(train.data)\n",
        "x_train_tfid=tfid_transform.fit_transform(x_train)"
      ],
      "execution_count": 0,
      "outputs": []
    },
    {
      "cell_type": "code",
      "metadata": {
        "id": "9Pi6F_sr61DA",
        "colab_type": "code",
        "outputId": "8447255e-2320-406a-8f5e-9c275e6af2a7",
        "colab": {
          "base_uri": "https://localhost:8080/",
          "height": 324
        }
      },
      "source": [
        "from sklearn.naive_bayes import MultinomialNB\n",
        "from sklearn.metrics import accuracy_score,confusion_matrix,classification_report\n",
        "mod=MultinomialNB()\n",
        "mod.fit(x_train_tfid,train.target)\n",
        "\n",
        "x_test=count_vect.transform(test.data)\n",
        "x_test_tfid=tfid_transform.transform(x_test)\n",
        "\n",
        "predict=mod.predict(x_test_tfid)\n",
        "\n",
        "print(predict)\n",
        "print(\"Accuracy :\",accuracy_score(test.target,predict))\n",
        "print(classification_report(test.target,predict,target_names=test.target_names))\n",
        "print(confusion_matrix(test.target,predict))"
      ],
      "execution_count": 7,
      "outputs": [
        {
          "output_type": "stream",
          "text": [
            "[2 2 3 ... 2 2 1]\n",
            "Accuracy : 0.8348868175765646\n",
            "                        precision    recall  f1-score   support\n",
            "\n",
            "           alt.atheism       0.97      0.60      0.74       319\n",
            "         comp.graphics       0.96      0.89      0.92       389\n",
            "               sci.med       0.97      0.81      0.88       396\n",
            "soc.religion.christian       0.65      0.99      0.78       398\n",
            "\n",
            "              accuracy                           0.83      1502\n",
            "             macro avg       0.89      0.82      0.83      1502\n",
            "          weighted avg       0.88      0.83      0.84      1502\n",
            "\n",
            "[[192   2   6 119]\n",
            " [  2 347   4  36]\n",
            " [  2  11 322  61]\n",
            " [  2   2   1 393]]\n"
          ],
          "name": "stdout"
        }
      ]
    }
  ]
}