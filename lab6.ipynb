{
  "nbformat": 4,
  "nbformat_minor": 0,
  "metadata": {
    "colab": {
      "name": "lab6.ipynb",
      "provenance": [],
      "collapsed_sections": [],
      "include_colab_link": true
    },
    "kernelspec": {
      "name": "python3",
      "display_name": "Python 3"
    }
  },
  "cells": [
    {
      "cell_type": "markdown",
      "metadata": {
        "id": "view-in-github",
        "colab_type": "text"
      },
      "source": [
        "<a href=\"https://colab.research.google.com/github/Shreyans06/ML-/blob/master/lab6.ipynb\" target=\"_parent\"><img src=\"https://colab.research.google.com/assets/colab-badge.svg\" alt=\"Open In Colab\"/></a>"
      ]
    },
    {
      "cell_type": "code",
      "metadata": {
        "id": "9iwAOTW7qKh5",
        "colab_type": "code",
        "colab": {}
      },
      "source": [
        "from sklearn.datasets import fetch_20newsgroups\n",
        "train=fetch_20newsgroups(subset='train',shuffle=True)\n",
        "test=fetch_20newsgroups(subset='test',shuffle=True)"
      ],
      "execution_count": 0,
      "outputs": []
    },
    {
      "cell_type": "code",
      "metadata": {
        "id": "h36oiM50uGmL",
        "colab_type": "code",
        "colab": {}
      },
      "source": [
        "hjjhhbjh"
      ],
      "execution_count": 0,
      "outputs": []
    },
    {
      "cell_type": "code",
      "metadata": {
        "id": "qi3Y55nZtbWh",
        "colab_type": "code",
        "colab": {}
      },
      "source": [
        "\n",
        "from sklearn.naive_bayes import MultinomialNB\n",
        "from sklearn.metrics import accuracy_score\n",
        "mod=MultinomialNB()\n",
        "mod.fit(train.data,train.target)\n",
        "\n",
        "predict=mod.predict(test.data)\n",
        "\n",
        "print(predict)\n",
        "\n",
        "print(\"Accuracy\",accuracy_score(test.target,predict))"
      ],
      "execution_count": 0,
      "outputs": []
    }
  ]
}