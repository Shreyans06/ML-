{
  "nbformat": 4,
  "nbformat_minor": 0,
  "metadata": {
    "colab": {
      "name": "lab9.ipynb",
      "provenance": [],
      "include_colab_link": true
    },
    "kernelspec": {
      "name": "python3",
      "display_name": "Python 3"
    }
  },
  "cells": [
    {
      "cell_type": "markdown",
      "metadata": {
        "id": "view-in-github",
        "colab_type": "text"
      },
      "source": [
        "<a href=\"https://colab.research.google.com/github/Shreyans06/ML-/blob/master/lab9.ipynb\" target=\"_parent\"><img src=\"https://colab.research.google.com/assets/colab-badge.svg\" alt=\"Open In Colab\"/></a>"
      ]
    },
    {
      "cell_type": "code",
      "metadata": {
        "id": "5FQLW7ky-VUP",
        "colab_type": "code",
        "colab": {}
      },
      "source": [
        "from sklearn.datasets import load_iris\n",
        "iris=load_iris()"
      ],
      "execution_count": 0,
      "outputs": []
    },
    {
      "cell_type": "code",
      "metadata": {
        "id": "zfzYvd9g-2uO",
        "colab_type": "code",
        "colab": {
          "base_uri": "https://localhost:8080/",
          "height": 162
        },
        "outputId": "3d2ce830-964f-43cd-bc06-3e362bd90ad4"
      },
      "source": [
        "print(\"Feature Names\",iris.feature_names,\"\\nTarget Names\",iris.target_names)\n",
        "print(\"Target\\n\",iris.target)"
      ],
      "execution_count": 12,
      "outputs": [
        {
          "output_type": "stream",
          "text": [
            "Feature Names ['sepal length (cm)', 'sepal width (cm)', 'petal length (cm)', 'petal width (cm)'] \n",
            "Target Names ['setosa' 'versicolor' 'virginica']\n",
            "Target\n",
            " [0 0 0 0 0 0 0 0 0 0 0 0 0 0 0 0 0 0 0 0 0 0 0 0 0 0 0 0 0 0 0 0 0 0 0 0 0\n",
            " 0 0 0 0 0 0 0 0 0 0 0 0 0 1 1 1 1 1 1 1 1 1 1 1 1 1 1 1 1 1 1 1 1 1 1 1 1\n",
            " 1 1 1 1 1 1 1 1 1 1 1 1 1 1 1 1 1 1 1 1 1 1 1 1 1 1 2 2 2 2 2 2 2 2 2 2 2\n",
            " 2 2 2 2 2 2 2 2 2 2 2 2 2 2 2 2 2 2 2 2 2 2 2 2 2 2 2 2 2 2 2 2 2 2 2 2 2\n",
            " 2 2]\n"
          ],
          "name": "stdout"
        }
      ]
    },
    {
      "cell_type": "code",
      "metadata": {
        "id": "_u1pWjzO_oZb",
        "colab_type": "code",
        "colab": {}
      },
      "source": [
        "from sklearn.model_selection import train_test_split\n",
        "x_train,x_test,y_train,y_test=train_test_split(iris.data,iris.target,test_size=0.3)"
      ],
      "execution_count": 0,
      "outputs": []
    },
    {
      "cell_type": "code",
      "metadata": {
        "id": "-nu9pLn2_-8k",
        "colab_type": "code",
        "colab": {
          "base_uri": "https://localhost:8080/",
          "height": 162
        },
        "outputId": "f31b3b30-6ecf-47d8-92b9-57f9c19d5993"
      },
      "source": [
        "from sklearn.neighbors import KNeighborsClassifier\n",
        "clf=KNeighborsClassifier()\n",
        "clf.fit(x_train,y_train)\n",
        "y_pred=clf.predict(x_test)\n",
        "print(\"Test set output\\n\",y_test)\n",
        "print(\"Predicted output\\n\",y_pred)\n",
        "print(\"Accuracy = \",clf.score(x_test,y_test))\n",
        "diff=y_pred-y_test\n",
        "print(\"Total number of samples misclassified = \",sum(abs(diff)))"
      ],
      "execution_count": 19,
      "outputs": [
        {
          "output_type": "stream",
          "text": [
            "Test set output\n",
            " [1 2 1 1 1 1 2 2 2 0 2 2 2 1 1 2 2 0 2 2 1 0 0 1 0 0 1 1 1 2 1 1 0 2 1 0 1\n",
            " 0 2 2 2 2 2 2 2]\n",
            "Predicted output\n",
            " [1 2 2 1 1 1 2 2 2 0 2 2 2 1 1 2 2 0 2 2 2 0 0 2 0 0 1 1 1 2 1 1 0 2 1 0 1\n",
            " 0 2 2 2 2 2 2 2]\n",
            "Accuracy =  0.9333333333333333\n",
            "Total number of samples misclassified =  3\n"
          ],
          "name": "stdout"
        }
      ]
    }
  ]
}